{
 "cells": [
  {
   "cell_type": "markdown",
   "metadata": {},
   "source": [
    "This exercise will require you to pull some data from the Qunadl API. Qaundl is currently the most widely used aggregator of financial market data."
   ]
  },
  {
   "cell_type": "markdown",
   "metadata": {},
   "source": [
    "As a first step, you will need to register a free account on the http://www.quandl.com website."
   ]
  },
  {
   "cell_type": "markdown",
   "metadata": {},
   "source": [
    "After you register, you will be provided with a unique API key, that you should store:"
   ]
  },
  {
   "cell_type": "code",
   "execution_count": 1,
   "metadata": {},
   "outputs": [],
   "source": [
    "# Store the API key as a string - according to PEP8, constants are always named in all upper case\n",
    "API_KEY = 'api_key'"
   ]
  },
  {
   "cell_type": "markdown",
   "metadata": {},
   "source": [
    "Qaundl has a large number of data sources, but, unfortunately, most of them require a Premium subscription. Still, there are also a good number of free datasets."
   ]
  },
  {
   "cell_type": "markdown",
   "metadata": {},
   "source": [
    "For this mini project, we will focus on equities data from the Frankfurt Stock Exhange (FSE), which is available for free. We'll try and analyze the stock prices of a company called Carl Zeiss Meditec, which manufactures tools for eye examinations, as well as medical lasers for laser eye surgery: https://www.zeiss.com/meditec/int/home.html. The company is listed under the stock ticker AFX_X."
   ]
  },
  {
   "cell_type": "markdown",
   "metadata": {},
   "source": [
    "You can find the detailed Quandl API instructions here: https://docs.quandl.com/docs/time-series"
   ]
  },
  {
   "cell_type": "markdown",
   "metadata": {},
   "source": [
    "While there is a dedicated Python package for connecting to the Quandl API, we would prefer that you use the *requests* package, which can be easily downloaded using *pip* or *conda*. You can find the documentation for the package here: http://docs.python-requests.org/en/master/ "
   ]
  },
  {
   "cell_type": "markdown",
   "metadata": {},
   "source": [
    "Finally, apart from the *requests* package, you are encouraged to not use any third party Python packages, such as *pandas*, and instead focus on what's available in the Python Standard Library (the *collections* module might come in handy: https://pymotw.com/3/collections/ ).\n",
    "Also, since you won't have access to DataFrames, you are encouraged to us Python's native data structures - preferably dictionaries, though some questions can also be answered using lists.\n",
    "You can read more on these data structures here: https://docs.python.org/3/tutorial/datastructures.html"
   ]
  },
  {
   "cell_type": "markdown",
   "metadata": {},
   "source": [
    "Keep in mind that the JSON responses you will be getting from the API map almost one-to-one to Python's dictionaries. Unfortunately, they can be very nested, so make sure you read up on indexing dictionaries in the documentation provided above."
   ]
  },
  {
   "cell_type": "code",
   "execution_count": 98,
   "metadata": {},
   "outputs": [],
   "source": [
    "# First, import the relevant modules\n",
    "import requests\n",
    "from statistics import mean, median"
   ]
  },
  {
   "cell_type": "code",
   "execution_count": 10,
   "metadata": {},
   "outputs": [
    {
     "name": "stdout",
     "output_type": "stream",
     "text": [
      "{\"dataset_data\":{\"limit\":1,\"transform\":null,\"column_index\":null,\"column_names\":[\"Date\",\"Open\",\"High\",\"Low\",\"Last\",\"Volume\",\"Turnover\"],\"start_date\":\"2014-02-14\",\"end_date\":\"2021-03-31\",\"frequency\":\"daily\",\"data\":[[\"2021-03-31\",236.25,236.25,234.35,235.6,59.0,13929.0]],\"collapse\":null,\"order\":null}}\n"
     ]
    }
   ],
   "source": [
    "# Now, call the Quandl API and pull out a small sample of the data (only one day) to get a glimpse\n",
    "# into the JSON structure that will be returned\n",
    "url = 'https://www.quandl.com/api/v3/datasets/EURONEXT/MSF/data.json?limit=1&api_key=api_key'\n",
    "r = requests.get(url)\n",
    "print(r.text)\n",
    "#Could not find Zeiss data, used Microsoft stock data instead"
   ]
  },
  {
   "cell_type": "code",
   "execution_count": 11,
   "metadata": {},
   "outputs": [
    {
     "data": {
      "text/plain": [
       "requests.models.Response"
      ]
     },
     "execution_count": 11,
     "metadata": {},
     "output_type": "execute_result"
    }
   ],
   "source": [
    "# Inspect the JSON structure of the object you created, and take note of how nested it is,\n",
    "# as well as the overall structure\n",
    "type(r)\n",
    "#Dictionary within a dictionary"
   ]
  },
  {
   "cell_type": "markdown",
   "metadata": {},
   "source": [
    "These are your tasks for this mini project:\n",
    "\n",
    "1. Collect data from the Franfurt Stock Exchange, for the ticker AFX_X, for the whole year 2017 (keep in mind that the date format is YYYY-MM-DD).\n",
    "2. Convert the returned JSON object into a Python dictionary.\n",
    "3. Calculate what the highest and lowest opening prices were for the stock in this period.\n",
    "4. What was the largest change in any one day (based on High and Low price)?\n",
    "5. What was the largest change between any two days (based on Closing Price)?\n",
    "6. What was the average daily trading volume during this year?\n",
    "7. (Optional) What was the median trading volume during this year. (Note: you may need to implement your own function for calculating the median.)"
   ]
  },
  {
   "cell_type": "code",
   "execution_count": 12,
   "metadata": {},
   "outputs": [
    {
     "name": "stdout",
     "output_type": "stream",
     "text": [
      "dataset_data: {'limit': None, 'transform': None, 'column_index': None, 'column_names': ['Date', 'Open', 'High', 'Low', 'Last', 'Volume', 'Turnover'], 'start_date': '2017-01-01', 'end_date': '2017-12-31', 'frequency': 'daily', 'data': [['2017-12-27', 85.4, 85.4, 85.4, 85.4, 12.0, 861.54], ['2017-12-22', 85.47, 85.47, 85.47, 85.47, 180.0, 12979.49], ['2017-12-15', 85.47, 85.47, 85.47, 85.47, 25.0, 1809.88], ['2017-12-05', 81.66, 81.69, 81.66, 81.69, 655.0, 45154.06], ['2017-12-04', 84.82, 92.0, 84.82, 92.0, 685.0, 62804.6], ['2017-12-01', 84.83, 84.83, 84.83, 84.83, 100.0, 8483.0], ['2017-11-29', 85.41, 85.43, 84.7, 84.7, 660.0, 47605.89], ['2017-11-28', 83.5, 83.5, 83.5, 83.5, 350.0, 29225.0], ['2017-11-27', 82.0, 82.0, 82.0, 82.0, 40.0, 3280.0], ['2017-11-20', 81.63, 81.63, 81.63, 81.63, 1.0, 69.29], ['2017-11-17', 83.81, 83.81, 82.07, 82.07, 78.0, 6467.32], ['2017-11-16', 85.0, 85.0, 85.0, 85.0, 15.0, 1275.0], ['2017-11-15', 83.25, 83.4, 83.0, 83.0, 282.0, 23474.81], ['2017-11-13', 76.11, 83.0, 76.11, 80.02, 355.0, 23781.01], ['2017-11-10', 84.0, 84.0, 83.99, 84.0, 84.0, 7055.91], ['2017-11-08', 85.21, 85.21, 85.2, 85.2, 44.0, 3234.77], ['2017-11-07', 85.11, 85.11, 85.11, 85.11, 1.0, 85.11], ['2017-11-03', 83.5, 83.5, 83.5, 83.5, 1000.0, 71630.8], ['2017-11-01', 82.88, 84.0, 82.88, 84.0, 95.0, 6795.03], ['2017-10-31', 84.11, 84.11, 84.06, 84.06, 61.0, 4407.26], ['2017-10-30', 84.0, 84.35, 83.45, 84.35, 1115.0, 80923.82], ['2017-10-27', 81.08, 85.72, 81.08, 85.72, 116.0, 8325.71], ['2017-10-24', 78.47, 78.47, 78.47, 78.47, 10.0, 667.21], ['2017-10-20', 78.08, 78.64, 77.73, 77.73, 98.0, 6476.93], ['2017-10-11', 76.5, 76.5, 76.5, 76.5, 47.0, 3039.31], ['2017-10-10', 75.99, 76.52, 75.99, 76.52, 247.0, 18777.36], ['2017-10-09', 74.81, 74.81, 74.81, 74.81, 25.0, 1870.25], ['2017-10-05', 74.8, 74.8, 74.8, 74.8, 60.0, 3822.18], ['2017-10-04', 74.78, 74.78, 74.78, 74.78, 10.0, 747.8], ['2017-09-20', 83.0, 83.0, 75.46, 75.46, 4.0, 263.94], ['2017-09-19', 75.6, 75.6, 75.57, 75.57, 40.0, 3023.07], ['2017-09-18', 75.0, 75.5, 75.0, 75.5, 855.0, 64337.5], ['2017-09-15', 75.0, 75.0, 75.0, 75.0, 3.0, 225.0], ['2017-09-14', 75.0, 75.0, 75.0, 75.0, 1.0, 75.0], ['2017-09-12', 74.7, 74.7, 74.7, 74.7, 15.0, 938.99], ['2017-09-06', 74.0, 74.0, 74.0, 74.0, 42.0, 2604.98], ['2017-09-04', 73.0, 73.0, 73.0, 73.0, 35.0, 2146.16], ['2017-09-01', 73.5, 73.5, 73.5, 73.5, 20.0, 1470.0], ['2017-08-31', 74.21, 74.5, 74.15, 74.15, 86.0, 6385.6], ['2017-08-22', 73.45, 73.45, 73.45, 73.45, 2.0, 124.8], ['2017-08-21', 74.0, 74.0, 74.0, 74.0, 40.0, 2960.0], ['2017-08-18', 73.1, 73.1, 73.0, 73.0, 16.0, 1169.5], ['2017-08-17', 73.21, 73.21, 73.21, 73.21, 10.0, 732.1], ['2017-08-16', 73.2, 73.2, 73.2, 73.2, 30.0, 2196.0], ['2017-08-07', 73.0, 73.0, 73.0, 73.0, 3.0, 185.64], ['2017-08-04', 72.72, 72.72, 72.72, 72.72, 20.0, 1454.4], ['2017-08-03', 72.67, 72.67, 72.67, 72.67, 16.0, 1162.72], ['2017-07-31', 74.0, 74.0, 74.0, 74.0, 18.0, 1135.84], ['2017-07-28', 73.0, 73.0, 73.0, 73.0, 10.0, 730.0], ['2017-07-27', 73.97, 73.97, 73.97, 73.97, 4.0, 295.88], ['2017-07-25', 74.15, 74.15, 73.13, 74.0, 85.0, 5371.64], ['2017-07-24', 79.99, 79.99, 79.99, 79.99, 5.0, 399.95], ['2017-07-21', 75.01, 80.0, 74.9, 80.0, 119.0, 8944.59], ['2017-07-20', 74.1, 74.1, 72.32, 74.1, 875.0, 64357.5], ['2017-07-17', 68.0, 72.32, 68.0, 72.32, 30.0, 1817.47], ['2017-07-12', 68.0, 68.0, 68.0, 68.0, 50.0, 2969.69], ['2017-07-07', 68.14, 68.14, 68.14, 68.14, 13.0, 776.22], ['2017-07-05', 68.0, 68.0, 68.0, 68.0, 70.0, 4201.6], ['2017-07-04', 68.0, 68.0, 68.0, 68.0, 30.0, 2040.0], ['2017-07-03', 68.0, 68.0, 68.0, 68.0, 24.0, 1632.0], ['2017-06-30', 68.02, 68.02, 68.02, 68.02, 25.0, 1700.5], ['2017-06-26', 71.2, 71.97, 70.76, 70.76, 540.0, 34646.75], ['2017-06-19', 71.0, 71.0, 70.25, 70.25, 37.0, 2329.0], ['2017-06-15', 70.21, 70.21, 70.21, 70.21, 30.0, 1886.35], ['2017-06-14', 70.6, 70.6, 70.36, 70.36, 65.0, 4585.4], ['2017-06-13', 70.94, 70.94, 70.6, 70.6, 65.0, 4602.6], ['2017-06-12', 69.13, 69.25, 69.0, 69.07, 143.0, 9891.15], ['2017-06-09', 70.12, 70.12, 65.0, 65.0, 30.0, 2078.0], ['2017-06-08', 72.2, 72.2, 72.2, 72.2, 15.0, 1083.0], ['2017-06-07', 72.15, 72.15, 72.15, 72.15, 10.0, 721.5], ['2017-06-05', 72.0, 72.65, 72.0, 72.65, 29.0, 1865.86], ['2017-06-02', 70.15, 70.62, 70.15, 70.62, 815.0, 57545.9], ['2017-05-10', 68.5, 68.5, 68.5, 68.5, 50.0, 3147.4], ['2017-05-05', 68.59, 68.59, 68.59, 68.59, 16.0, 1001.22], ['2017-05-04', 69.99, 69.99, 69.75, 69.78, 93.0, 6501.24], ['2017-05-02', 66.0, 69.47, 66.0, 69.47, 29.0, 1782.16], ['2017-04-24', 67.5, 67.5, 66.94, 66.94, 2.0, 123.93], ['2017-04-21', 66.5, 66.5, 66.5, 66.5, 15.0, 997.5], ['2017-04-19', 65.3, 65.3, 65.3, 65.3, 100.0, 6088.58], ['2017-04-18', 66.0, 66.0, 66.0, 66.0, 1.0, 66.0], ['2017-04-12', 64.96, 64.96, 64.96, 64.96, 10.0, 612.54], ['2017-04-11', 66.13, 66.13, 66.13, 66.13, 24.0, 1587.12], ['2017-04-10', 67.0, 67.0, 66.13, 66.13, 34.0, 2251.9], ['2017-04-06', 66.68, 66.68, 65.34, 66.02, 155.0, 9533.81], ['2017-04-05', 66.66, 66.67, 66.66, 66.67, 300.0, 19998.16], ['2017-04-04', 66.0, 66.0, 66.0, 66.0, 35.0, 2310.0], ['2017-04-03', 66.1, 66.1, 65.38, 65.38, 187.0, 12261.07], ['2017-03-23', 70.0, 70.0, 70.0, 70.0, 120.0, 7787.88], ['2017-03-21', 65.0, 65.0, 65.0, 65.0, 200.0, 12034.8], ['2017-03-20', 64.45, 64.9, 64.45, 64.9, 90.0, 5401.09], ['2017-03-08', 64.05, 64.05, 64.05, 64.05, 300.0, 18202.93], ['2017-02-24', 65.0, 65.0, 65.0, 65.0, 75.0, 4595.16], ['2017-02-22', 65.0, 65.0, 65.0, 65.0, 20.0, 1236.56], ['2017-02-21', 64.27, 64.71, 64.27, 64.71, 31.0, 1895.42], ['2017-02-20', 66.01, 66.01, 66.0, 66.0, 31.0, 1927.39], ['2017-02-16', 65.4, 65.4, 65.4, 65.4, 80.0, 4911.75], ['2017-02-15', 67.2, 67.2, 65.5, 65.9, 111.0, 6904.97], ['2017-02-09', 65.0, 67.09, 63.75, 67.09, 143.0, 8660.77], ['2017-02-07', 63.4, 64.98, 63.4, 64.98, 136.0, 8100.87], ['2017-01-31', 65.0, 65.0, 65.0, 65.0, 30.0, 1813.11], ['2017-01-30', 65.0, 65.0, 65.0, 65.0, 160.0, 9783.63], ['2017-01-26', 64.2, 64.2, 63.82, 63.82, 15940.0, 952111.93], ['2017-01-25', 62.8, 62.8, 62.8, 62.8, 52.0, 3039.75], ['2017-01-23', 63.0, 63.0, 63.0, 63.0, 40.0, 2351.84], ['2017-01-20', 67.6, 67.6, 67.6, 67.6, 25.0, 1589.54], ['2017-01-19', 63.1, 63.1, 63.1, 63.1, 10.0, 591.49], ['2017-01-17', 64.0, 64.0, 63.0, 63.0, 87.0, 5131.97], ['2017-01-13', 63.5, 63.5, 62.41, 62.41, 72.0, 4225.14], ['2017-01-12', 63.37, 63.37, 63.37, 63.37, 18.0, 1068.13], ['2017-01-11', 63.0, 65.02, 63.0, 65.02, 313.0, 18809.26], ['2017-01-10', 62.82, 62.82, 62.82, 62.82, 110.0, 6539.41], ['2017-01-09', 63.0, 63.0, 62.91, 63.0, 137.0, 8206.47], ['2017-01-06', 61.9, 61.9, 61.9, 61.9, 17.0, 993.77], ['2017-01-03', 62.9, 62.99, 62.72, 62.76, 982.0, 59385.57], ['2017-01-02', 62.51, 63.0, 62.5, 63.0, 550.0, 33089.38]], 'collapse': None, 'order': None}\n"
     ]
    }
   ],
   "source": [
    "url = 'https://www.quandl.com/api/v3/datasets/EURONEXT/MSF/data.json?start_date=2017-01-01&end_date=2017-12-31&api_key=api_key'\n",
    "r = requests.get(url)\n",
    "json_data = r.json()\n",
    "for key in json_data.keys():\n",
    "    print(key + ':', json_data[key])"
   ]
  },
  {
   "cell_type": "code",
   "execution_count": 69,
   "metadata": {},
   "outputs": [
    {
     "name": "stdout",
     "output_type": "stream",
     "text": [
      "85.47\n",
      "61.9\n"
     ]
    }
   ],
   "source": [
    "#3. Calculate what the highest and lowest opening prices were for the stock in this period.\n",
    "print(max((i[1] for i in json_data['dataset_data']['data'] if isinstance (i[1], float))))\n",
    "print(min((i[1] for i in json_data['dataset_data']['data'] if isinstance (i[1], float))))"
   ]
  },
  {
   "cell_type": "code",
   "execution_count": 91,
   "metadata": {},
   "outputs": [
    {
     "name": "stdout",
     "output_type": "stream",
     "text": [
      "7.54\n"
     ]
    }
   ],
   "source": [
    "#4. What was the largest change in any one day (based on High and Low price)?\n",
    "def day_change(data):\n",
    "    l = []\n",
    "    for x in data:\n",
    "        y = x[2] - x[3]\n",
    "        l.append(y)\n",
    "    return l\n",
    "data = json_data['dataset_data']['data']\n",
    "print(round(max(day_change(data)),2))"
   ]
  },
  {
   "cell_type": "code",
   "execution_count": 92,
   "metadata": {},
   "outputs": [
    {
     "name": "stdout",
     "output_type": "stream",
     "text": [
      "dataset_data: {'limit': None, 'transform': 'diff', 'column_index': 4, 'column_names': ['Date', 'Last'], 'start_date': '2017-01-01', 'end_date': '2017-12-31', 'frequency': 'daily', 'data': [['2017-12-27', -0.069999999999993], ['2017-12-22', 0.0], ['2017-12-15', 3.78], ['2017-12-05', -10.31], ['2017-12-04', 7.17], ['2017-12-01', 0.13], ['2017-11-29', 1.2], ['2017-11-28', 1.5], ['2017-11-27', 0.37], ['2017-11-20', -0.44], ['2017-11-17', -2.93], ['2017-11-16', 2.0], ['2017-11-15', 2.98], ['2017-11-13', -3.98], ['2017-11-10', -1.2], ['2017-11-08', 0.090000000000003], ['2017-11-07', 1.61], ['2017-11-03', -0.5], ['2017-11-01', -0.060000000000002], ['2017-10-31', -0.28999999999999], ['2017-10-30', -1.37], ['2017-10-27', 7.25], ['2017-10-24', 0.74], ['2017-10-20', 1.23], ['2017-10-11', -0.019999999999996], ['2017-10-10', 1.71], ['2017-10-09', 0.010000000000005], ['2017-10-05', 0.019999999999996], ['2017-10-04', -0.67999999999999], ['2017-09-20', -0.11], ['2017-09-19', 0.069999999999993], ['2017-09-18', 0.5], ['2017-09-15', 0.0], ['2017-09-14', 0.3], ['2017-09-12', 0.7], ['2017-09-06', 1.0], ['2017-09-04', -0.5], ['2017-09-01', -0.65000000000001], ['2017-08-31', 0.7], ['2017-08-22', -0.55], ['2017-08-21', 1.0], ['2017-08-18', -0.20999999999999], ['2017-08-17', 0.0099999999999909], ['2017-08-16', 0.2], ['2017-08-07', 0.28], ['2017-08-04', 0.049999999999997], ['2017-08-03', -1.33], ['2017-07-31', 1.0], ['2017-07-28', -0.97], ['2017-07-27', -0.030000000000001], ['2017-07-25', -5.99], ['2017-07-24', -0.010000000000005], ['2017-07-21', 5.9], ['2017-07-20', 1.78], ['2017-07-17', 4.32], ['2017-07-12', -0.14], ['2017-07-07', 0.14], ['2017-07-05', 0.0], ['2017-07-04', 0.0], ['2017-07-03', -0.019999999999996], ['2017-06-30', -2.74], ['2017-06-26', 0.51], ['2017-06-19', 0.040000000000006], ['2017-06-15', -0.15000000000001], ['2017-06-14', -0.24], ['2017-06-13', 1.53], ['2017-06-12', 4.07], ['2017-06-09', -7.2], ['2017-06-08', 0.049999999999997], ['2017-06-07', -0.5], ['2017-06-05', 2.03], ['2017-06-02', 2.12], ['2017-05-10', -0.090000000000003], ['2017-05-05', -1.19], ['2017-05-04', 0.31], ['2017-05-02', 2.53], ['2017-04-24', 0.44], ['2017-04-21', 1.2], ['2017-04-19', -0.7], ['2017-04-18', 1.04], ['2017-04-12', -1.17], ['2017-04-11', 0.0], ['2017-04-10', 0.11], ['2017-04-06', -0.65000000000001], ['2017-04-05', 0.67], ['2017-04-04', 0.62], ['2017-04-03', -4.62], ['2017-03-23', 5.0], ['2017-03-21', 0.099999999999994], ['2017-03-20', 0.85000000000001], ['2017-03-08', -0.95], ['2017-02-24', 0.0], ['2017-02-22', 0.29000000000001], ['2017-02-21', -1.29], ['2017-02-20', 0.59999999999999], ['2017-02-16', -0.5], ['2017-02-15', -1.19], ['2017-02-09', 2.11], ['2017-02-07', -0.019999999999996], ['2017-01-31', 0.0], ['2017-01-30', 1.18], ['2017-01-26', 1.02], ['2017-01-25', -0.2], ['2017-01-23', -4.6], ['2017-01-20', 4.5], ['2017-01-19', 0.1], ['2017-01-17', 0.59], ['2017-01-13', -0.96], ['2017-01-12', -1.65], ['2017-01-11', 2.2], ['2017-01-10', -0.18], ['2017-01-09', 1.1], ['2017-01-06', -0.86], ['2017-01-03', -0.24]], 'collapse': None, 'order': None}\n"
     ]
    }
   ],
   "source": [
    "#5. What was the largest change between any two days (based on Closing Price)?\n",
    "url2 = 'https://www.quandl.com/api/v3/datasets/EURONEXT/MSF/data.json?start_date=2017-01-01&end_date=2017-12-31&column_index=4&transform=diff&api_key=api_key'\n",
    "r2 = requests.get(url2)\n",
    "json_data2 = r2.json()\n",
    "for key in json_data2.keys():\n",
    "    print(key + ':', json_data2[key])"
   ]
  },
  {
   "cell_type": "code",
   "execution_count": 93,
   "metadata": {},
   "outputs": [
    {
     "name": "stdout",
     "output_type": "stream",
     "text": [
      "-10.31\n"
     ]
    }
   ],
   "source": [
    "#5.\n",
    "print(max((i[1] for i in json_data2['dataset_data']['data'] if isinstance (i[1], float)), key=abs))"
   ]
  },
  {
   "cell_type": "code",
   "execution_count": 99,
   "metadata": {},
   "outputs": [
    {
     "name": "stdout",
     "output_type": "stream",
     "text": [
      "dataset_data: {'limit': None, 'transform': None, 'column_index': 5, 'column_names': ['Date', 'Volume'], 'start_date': '2017-01-01', 'end_date': '2017-12-31', 'frequency': 'daily', 'data': [['2017-12-27', 12.0], ['2017-12-22', 180.0], ['2017-12-15', 25.0], ['2017-12-05', 655.0], ['2017-12-04', 685.0], ['2017-12-01', 100.0], ['2017-11-29', 660.0], ['2017-11-28', 350.0], ['2017-11-27', 40.0], ['2017-11-20', 1.0], ['2017-11-17', 78.0], ['2017-11-16', 15.0], ['2017-11-15', 282.0], ['2017-11-13', 355.0], ['2017-11-10', 84.0], ['2017-11-08', 44.0], ['2017-11-07', 1.0], ['2017-11-03', 1000.0], ['2017-11-01', 95.0], ['2017-10-31', 61.0], ['2017-10-30', 1115.0], ['2017-10-27', 116.0], ['2017-10-24', 10.0], ['2017-10-20', 98.0], ['2017-10-11', 47.0], ['2017-10-10', 247.0], ['2017-10-09', 25.0], ['2017-10-05', 60.0], ['2017-10-04', 10.0], ['2017-09-20', 4.0], ['2017-09-19', 40.0], ['2017-09-18', 855.0], ['2017-09-15', 3.0], ['2017-09-14', 1.0], ['2017-09-12', 15.0], ['2017-09-06', 42.0], ['2017-09-04', 35.0], ['2017-09-01', 20.0], ['2017-08-31', 86.0], ['2017-08-22', 2.0], ['2017-08-21', 40.0], ['2017-08-18', 16.0], ['2017-08-17', 10.0], ['2017-08-16', 30.0], ['2017-08-07', 3.0], ['2017-08-04', 20.0], ['2017-08-03', 16.0], ['2017-07-31', 18.0], ['2017-07-28', 10.0], ['2017-07-27', 4.0], ['2017-07-25', 85.0], ['2017-07-24', 5.0], ['2017-07-21', 119.0], ['2017-07-20', 875.0], ['2017-07-17', 30.0], ['2017-07-12', 50.0], ['2017-07-07', 13.0], ['2017-07-05', 70.0], ['2017-07-04', 30.0], ['2017-07-03', 24.0], ['2017-06-30', 25.0], ['2017-06-26', 540.0], ['2017-06-19', 37.0], ['2017-06-15', 30.0], ['2017-06-14', 65.0], ['2017-06-13', 65.0], ['2017-06-12', 143.0], ['2017-06-09', 30.0], ['2017-06-08', 15.0], ['2017-06-07', 10.0], ['2017-06-05', 29.0], ['2017-06-02', 815.0], ['2017-05-10', 50.0], ['2017-05-05', 16.0], ['2017-05-04', 93.0], ['2017-05-02', 29.0], ['2017-04-24', 2.0], ['2017-04-21', 15.0], ['2017-04-19', 100.0], ['2017-04-18', 1.0], ['2017-04-12', 10.0], ['2017-04-11', 24.0], ['2017-04-10', 34.0], ['2017-04-06', 155.0], ['2017-04-05', 300.0], ['2017-04-04', 35.0], ['2017-04-03', 187.0], ['2017-03-23', 120.0], ['2017-03-21', 200.0], ['2017-03-20', 90.0], ['2017-03-08', 300.0], ['2017-02-24', 75.0], ['2017-02-22', 20.0], ['2017-02-21', 31.0], ['2017-02-20', 31.0], ['2017-02-16', 80.0], ['2017-02-15', 111.0], ['2017-02-09', 143.0], ['2017-02-07', 136.0], ['2017-01-31', 30.0], ['2017-01-30', 160.0], ['2017-01-26', 15940.0], ['2017-01-25', 52.0], ['2017-01-23', 40.0], ['2017-01-20', 25.0], ['2017-01-19', 10.0], ['2017-01-17', 87.0], ['2017-01-13', 72.0], ['2017-01-12', 18.0], ['2017-01-11', 313.0], ['2017-01-10', 110.0], ['2017-01-09', 137.0], ['2017-01-06', 17.0], ['2017-01-03', 982.0], ['2017-01-02', 550.0]], 'collapse': None, 'order': None}\n",
      "276.1478260869565\n",
      "42.0\n"
     ]
    }
   ],
   "source": [
    "#6. What was the average daily trading volume during this year?\n",
    "#7. What was the median trading volume during this year.\n",
    "url3 = 'https://www.quandl.com/api/v3/datasets/EURONEXT/MSF/data.json?start_date=2017-01-01&end_date=2017-12-31&column_index=5&api_key=api_key'\n",
    "r3 = requests.get(url3)\n",
    "json_data3 = r3.json()\n",
    "for key in json_data3.keys():\n",
    "    print(key + ':', json_data3[key])\n",
    "print(mean((i[1] for i in json_data3['dataset_data']['data'] if isinstance (i[1], float))))\n",
    "print(median((i[1] for i in json_data3['dataset_data']['data'] if isinstance (i[1], float))))"
   ]
  }
 ],
 "metadata": {
  "kernelspec": {
   "display_name": "Python 3",
   "language": "python",
   "name": "python3"
  },
  "language_info": {
   "codemirror_mode": {
    "name": "ipython",
    "version": 3
   },
   "file_extension": ".py",
   "mimetype": "text/x-python",
   "name": "python",
   "nbconvert_exporter": "python",
   "pygments_lexer": "ipython3",
   "version": "3.8.3"
  }
 },
 "nbformat": 4,
 "nbformat_minor": 2
}
